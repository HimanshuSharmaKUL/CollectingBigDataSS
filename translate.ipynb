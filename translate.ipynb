{
 "cells": [
  {
   "cell_type": "code",
   "execution_count": 1,
   "metadata": {},
   "outputs": [],
   "source": [
    "from googletrans import Translator\n",
    "import pandas as pd"
   ]
  },
  {
   "cell_type": "code",
   "execution_count": 2,
   "metadata": {},
   "outputs": [],
   "source": [
    "nva = pd.read_csv('NVA.csv')"
   ]
  },
  {
   "cell_type": "code",
   "execution_count": 3,
   "metadata": {},
   "outputs": [
    {
     "data": {
      "text/html": [
       "<div>\n",
       "<style scoped>\n",
       "    .dataframe tbody tr th:only-of-type {\n",
       "        vertical-align: middle;\n",
       "    }\n",
       "\n",
       "    .dataframe tbody tr th {\n",
       "        vertical-align: top;\n",
       "    }\n",
       "\n",
       "    .dataframe thead th {\n",
       "        text-align: right;\n",
       "    }\n",
       "</style>\n",
       "<table border=\"1\" class=\"dataframe\">\n",
       "  <thead>\n",
       "    <tr style=\"text-align: right;\">\n",
       "      <th></th>\n",
       "      <th>articleTitle</th>\n",
       "      <th>articleDate</th>\n",
       "      <th>articleLink</th>\n",
       "      <th>articleText</th>\n",
       "    </tr>\n",
       "  </thead>\n",
       "  <tbody>\n",
       "    <tr>\n",
       "      <th>0</th>\n",
       "      <td>Scholen krijgen steun om hun infrastructuur te...</td>\n",
       "      <td>6 juni 2024</td>\n",
       "      <td>https://n-va.be/nieuws/scholen-krijgen-steun-o...</td>\n",
       "      <td>Minister van Onderwijs en Sport Ben Weyts inve...</td>\n",
       "    </tr>\n",
       "    <tr>\n",
       "      <th>1</th>\n",
       "      <td>Fors meer kandidaten voor toelatingsexamens (d...</td>\n",
       "      <td>5 juni 2024</td>\n",
       "      <td>https://n-va.be/nieuws/fors-meer-kandidaten-vo...</td>\n",
       "      <td>Er zijn fors meer kandidaten dan vorig jaar vo...</td>\n",
       "    </tr>\n",
       "    <tr>\n",
       "      <th>2</th>\n",
       "      <td>Ben Weyts wil EK Paardensport naar Vlaanderen ...</td>\n",
       "      <td>5 juni 2024</td>\n",
       "      <td>https://n-va.be/nieuws/ben-weyts-wil-ek-paarde...</td>\n",
       "      <td>Minister van Sport Ben Weyts wil de Europese K...</td>\n",
       "    </tr>\n",
       "    <tr>\n",
       "      <th>3</th>\n",
       "      <td>Vlaanderen bereikt doelstelling van 20.000 ha ...</td>\n",
       "      <td>4 juni 2024</td>\n",
       "      <td>https://n-va.be/nieuws/vlaanderen-bereikt-doel...</td>\n",
       "      <td>Bij haar start in 2019 schreef de Vlaamse Rege...</td>\n",
       "    </tr>\n",
       "    <tr>\n",
       "      <th>4</th>\n",
       "      <td>Ben Weyts wapent scholen tegen cybercriminalit...</td>\n",
       "      <td>2 juni 2024</td>\n",
       "      <td>https://n-va.be/nieuws/ben-weyts-wapent-schole...</td>\n",
       "      <td>Vlaams minister van Onderwijs Ben Weyts maakt ...</td>\n",
       "    </tr>\n",
       "  </tbody>\n",
       "</table>\n",
       "</div>"
      ],
      "text/plain": [
       "                                        articleTitle  articleDate  \\\n",
       "0  Scholen krijgen steun om hun infrastructuur te...  6 juni 2024   \n",
       "1  Fors meer kandidaten voor toelatingsexamens (d...  5 juni 2024   \n",
       "2  Ben Weyts wil EK Paardensport naar Vlaanderen ...  5 juni 2024   \n",
       "3  Vlaanderen bereikt doelstelling van 20.000 ha ...  4 juni 2024   \n",
       "4  Ben Weyts wapent scholen tegen cybercriminalit...  2 juni 2024   \n",
       "\n",
       "                                         articleLink  \\\n",
       "0  https://n-va.be/nieuws/scholen-krijgen-steun-o...   \n",
       "1  https://n-va.be/nieuws/fors-meer-kandidaten-vo...   \n",
       "2  https://n-va.be/nieuws/ben-weyts-wil-ek-paarde...   \n",
       "3  https://n-va.be/nieuws/vlaanderen-bereikt-doel...   \n",
       "4  https://n-va.be/nieuws/ben-weyts-wapent-schole...   \n",
       "\n",
       "                                         articleText  \n",
       "0  Minister van Onderwijs en Sport Ben Weyts inve...  \n",
       "1  Er zijn fors meer kandidaten dan vorig jaar vo...  \n",
       "2  Minister van Sport Ben Weyts wil de Europese K...  \n",
       "3  Bij haar start in 2019 schreef de Vlaamse Rege...  \n",
       "4  Vlaams minister van Onderwijs Ben Weyts maakt ...  "
      ]
     },
     "execution_count": 3,
     "metadata": {},
     "output_type": "execute_result"
    }
   ],
   "source": [
    "nva.head()"
   ]
  },
  {
   "cell_type": "code",
   "execution_count": 4,
   "metadata": {},
   "outputs": [
    {
     "name": "stderr",
     "output_type": "stream",
     "text": [
      "C:\\Users\\himan\\AppData\\Local\\Temp\\ipykernel_40504\\592811293.py:1: FutureWarning: Series.__getitem__ treating keys as positions is deprecated. In a future version, integer keys will always be treated as labels (consistent with DataFrame behavior). To access a value by position, use `ser.iloc[pos]`\n",
      "  nva.iloc[1,:][3]\n"
     ]
    },
    {
     "data": {
      "text/plain": [
       "'Er zijn fors meer kandidaten dan vorig jaar voor de toelatingsexamens Geneeskunde, Tandheelkunde en Dierengeneeskunde. Vlaanderen laat dan ook fors meer studenten starten aan de opleidingen. De Vlaamse Regering heeft de federale quota losgelaten en eigenhandig verhoogd. “We varen nu onze eigen koers op gebied van artsenquota, zodat we het artsentekort in Vlaanderen stap voor stap wegwerken”, zegt minister van Onderwijs Ben Weyts. “Goed dat er veel inschrijvingen zijn, want we hebben meer dokters nodig! Succes, iedereen”.  Er is een steeds nijpender tekort aan artsen en tandartsen. De Vlaamse Regering heeft daarom in deze regeerperiode beslist om de federale artsenquota los te laten en deze eigenhandig te verhogen. Zo mogen er volgend academiejaar in vergelijking met het begin van deze regeerperiode 50 procent studenten méér starten aan Geneeskunde en 70 procent studenten méér aan Tandheelkunde. Vlaanderen laat in september 1.723 studenten starten aan Geneeskunde, 252 studenten aan Tandheelkunde en 240 studenten aan Dierengeneeskunde.\\r\\n\\r\\nOpvallend meer kandidaten\\r\\n\\r\\nEr blijken nu opvallend veel kandidaten te zijn voor de drie toelatingsexamens die begin juli doorgaan. Mogelijk is er een verband met de beslissing om volgend academiejaar opnieuw méér studenten te laten starten aan deze opleidingen. Sinds de invoering van de toelatingsexamens voor arts en tandarts waren er nog nooit zoveel plaatsen in deze opleidingen. Kandidaten moeten slagen én gunstig gerangschikt zijn om toegang te krijgen tot de opleiding Geneeskunde, Tandheelkunde of Dierengeneeskunde. '"
      ]
     },
     "execution_count": 4,
     "metadata": {},
     "output_type": "execute_result"
    }
   ],
   "source": [
    "nva.iloc[1,:][3]"
   ]
  },
  {
   "cell_type": "code",
   "execution_count": 5,
   "metadata": {},
   "outputs": [],
   "source": [
    "text = nva['articleText'][1]"
   ]
  },
  {
   "cell_type": "code",
   "execution_count": 9,
   "metadata": {},
   "outputs": [
    {
     "name": "stdout",
     "output_type": "stream",
     "text": [
      "Er zijn fors meer kandidaten dan vorig jaar voor de toelatingsexamens Geneeskunde, Tandheelkunde en Dierengeneeskunde. Vlaanderen laat dan ook fors meer studenten starten aan de opleidingen. De Vlaamse Regering heeft de federale quota losgelaten en eigenhandig verhoogd. “We varen nu onze eigen koers op gebied van artsenquota, zodat we het artsentekort in Vlaanderen stap voor stap wegwerken”, zegt minister van Onderwijs Ben Weyts. “Goed dat er veel inschrijvingen zijn, want we hebben meer dokters nodig! Succes, iedereen”.  Er is een steeds nijpender tekort aan artsen en tandartsen. De Vlaamse Regering heeft daarom in deze regeerperiode beslist om de federale artsenquota los te laten en deze eigenhandig te verhogen. Zo mogen er volgend academiejaar in vergelijking met het begin van deze regeerperiode 50 procent studenten méér starten aan Geneeskunde en 70 procent studenten méér aan Tandheelkunde. Vlaanderen laat in september 1.723 studenten starten aan Geneeskunde, 252 studenten aan Tandheelkunde en 240 studenten aan Dierengeneeskunde.\n",
      "\n",
      "Opvallend meer kandidaten\n",
      "\n",
      "Er blijken nu opvallend veel kandidaten te zijn voor de drie toelatingsexamens die begin juli doorgaan. Mogelijk is er een verband met de beslissing om volgend academiejaar opnieuw méér studenten te laten starten aan deze opleidingen. Sinds de invoering van de toelatingsexamens voor arts en tandarts waren er nog nooit zoveel plaatsen in deze opleidingen. Kandidaten moeten slagen én gunstig gerangschikt zijn om toegang te krijgen tot de opleiding Geneeskunde, Tandheelkunde of Dierengeneeskunde. \n"
     ]
    }
   ],
   "source": [
    "print(text)"
   ]
  },
  {
   "cell_type": "code",
   "execution_count": 13,
   "metadata": {},
   "outputs": [
    {
     "data": {
      "text/plain": [
       "googletrans.client.Translator"
      ]
     },
     "execution_count": 13,
     "metadata": {},
     "output_type": "execute_result"
    }
   ],
   "source": [
    "translator = Translator()\n",
    "type(translator)"
   ]
  },
  {
   "cell_type": "code",
   "execution_count": 8,
   "metadata": {},
   "outputs": [
    {
     "name": "stdout",
     "output_type": "stream",
     "text": [
      "There are considerably more candidates than last year for the entrance exams in Medicine, Dentistry and Veterinary Medicine. Flanders is therefore allowing significantly more students to start their courses. The Flemish Government has abandoned the federal quota and increased it single-handedly. “We are now following our own course in terms of doctor quotas, so that we can eliminate the doctor shortage in Flanders step by step,” says Minister of Education Ben Weyts. “It's good that there are many registrations, because we need more doctors! Good luck, everyone.”  There is an increasingly acute shortage of doctors and dentists. The Flemish Government has therefore decided during this period of government to abandon the federal doctor quota and to increase it independently. For example, next academic year, compared to the start of this government period, 50 percent more students may start in Medicine and 70 percent more students in Dentistry. In September, Flanders will have 1,723 students start in Medicine, 252 students in Dentistry and 240 students in Veterinary Medicine.\n",
      "\n",
      "Noticeably more candidates\n",
      "\n",
      "There now appear to be a striking number of candidates for the three entrance exams that will take place at the beginning of July. There may be a connection with the decision to allow more students to start these courses again next academic year. Since the introduction of the entrance exams for doctors and dentists, there have never been so many places in these courses. Candidates must pass and be favorably ranked to gain entry to the Medicine, Dentistry or Veterinary Medicine program.\n"
     ]
    }
   ],
   "source": [
    "# while Translating==True:\n",
    "translator = Translator()\n",
    "# text=input((\"Values to translate:\"))\n",
    "translation = translator.translate(text)\n",
    "print(translation.text)"
   ]
  },
  {
   "cell_type": "code",
   "execution_count": 10,
   "metadata": {},
   "outputs": [],
   "source": [
    "nva['translatedArticleText'] = nva['articleText'].apply(lambda x: (translator.translate(x)).text)"
   ]
  },
  {
   "cell_type": "code",
   "execution_count": 11,
   "metadata": {},
   "outputs": [
    {
     "data": {
      "text/html": [
       "<div>\n",
       "<style scoped>\n",
       "    .dataframe tbody tr th:only-of-type {\n",
       "        vertical-align: middle;\n",
       "    }\n",
       "\n",
       "    .dataframe tbody tr th {\n",
       "        vertical-align: top;\n",
       "    }\n",
       "\n",
       "    .dataframe thead th {\n",
       "        text-align: right;\n",
       "    }\n",
       "</style>\n",
       "<table border=\"1\" class=\"dataframe\">\n",
       "  <thead>\n",
       "    <tr style=\"text-align: right;\">\n",
       "      <th></th>\n",
       "      <th>articleTitle</th>\n",
       "      <th>articleDate</th>\n",
       "      <th>articleLink</th>\n",
       "      <th>articleText</th>\n",
       "      <th>translatedArticleText</th>\n",
       "    </tr>\n",
       "  </thead>\n",
       "  <tbody>\n",
       "    <tr>\n",
       "      <th>0</th>\n",
       "      <td>Scholen krijgen steun om hun infrastructuur te...</td>\n",
       "      <td>6 juni 2024</td>\n",
       "      <td>https://n-va.be/nieuws/scholen-krijgen-steun-o...</td>\n",
       "      <td>Minister van Onderwijs en Sport Ben Weyts inve...</td>\n",
       "      <td>Minister of Education and Sports Ben Weyts is ...</td>\n",
       "    </tr>\n",
       "    <tr>\n",
       "      <th>1</th>\n",
       "      <td>Fors meer kandidaten voor toelatingsexamens (d...</td>\n",
       "      <td>5 juni 2024</td>\n",
       "      <td>https://n-va.be/nieuws/fors-meer-kandidaten-vo...</td>\n",
       "      <td>Er zijn fors meer kandidaten dan vorig jaar vo...</td>\n",
       "      <td>There are considerably more candidates than la...</td>\n",
       "    </tr>\n",
       "    <tr>\n",
       "      <th>2</th>\n",
       "      <td>Ben Weyts wil EK Paardensport naar Vlaanderen ...</td>\n",
       "      <td>5 juni 2024</td>\n",
       "      <td>https://n-va.be/nieuws/ben-weyts-wil-ek-paarde...</td>\n",
       "      <td>Minister van Sport Ben Weyts wil de Europese K...</td>\n",
       "      <td>Minister of Sports Ben Weyts wants to bring th...</td>\n",
       "    </tr>\n",
       "    <tr>\n",
       "      <th>3</th>\n",
       "      <td>Vlaanderen bereikt doelstelling van 20.000 ha ...</td>\n",
       "      <td>4 juni 2024</td>\n",
       "      <td>https://n-va.be/nieuws/vlaanderen-bereikt-doel...</td>\n",
       "      <td>Bij haar start in 2019 schreef de Vlaamse Rege...</td>\n",
       "      <td>When it started in 2019, the Flemish Governmen...</td>\n",
       "    </tr>\n",
       "    <tr>\n",
       "      <th>4</th>\n",
       "      <td>Ben Weyts wapent scholen tegen cybercriminalit...</td>\n",
       "      <td>2 juni 2024</td>\n",
       "      <td>https://n-va.be/nieuws/ben-weyts-wapent-schole...</td>\n",
       "      <td>Vlaams minister van Onderwijs Ben Weyts maakt ...</td>\n",
       "      <td>Flemish Minister of Education Ben Weyts is rel...</td>\n",
       "    </tr>\n",
       "  </tbody>\n",
       "</table>\n",
       "</div>"
      ],
      "text/plain": [
       "                                        articleTitle  articleDate  \\\n",
       "0  Scholen krijgen steun om hun infrastructuur te...  6 juni 2024   \n",
       "1  Fors meer kandidaten voor toelatingsexamens (d...  5 juni 2024   \n",
       "2  Ben Weyts wil EK Paardensport naar Vlaanderen ...  5 juni 2024   \n",
       "3  Vlaanderen bereikt doelstelling van 20.000 ha ...  4 juni 2024   \n",
       "4  Ben Weyts wapent scholen tegen cybercriminalit...  2 juni 2024   \n",
       "\n",
       "                                         articleLink  \\\n",
       "0  https://n-va.be/nieuws/scholen-krijgen-steun-o...   \n",
       "1  https://n-va.be/nieuws/fors-meer-kandidaten-vo...   \n",
       "2  https://n-va.be/nieuws/ben-weyts-wil-ek-paarde...   \n",
       "3  https://n-va.be/nieuws/vlaanderen-bereikt-doel...   \n",
       "4  https://n-va.be/nieuws/ben-weyts-wapent-schole...   \n",
       "\n",
       "                                         articleText  \\\n",
       "0  Minister van Onderwijs en Sport Ben Weyts inve...   \n",
       "1  Er zijn fors meer kandidaten dan vorig jaar vo...   \n",
       "2  Minister van Sport Ben Weyts wil de Europese K...   \n",
       "3  Bij haar start in 2019 schreef de Vlaamse Rege...   \n",
       "4  Vlaams minister van Onderwijs Ben Weyts maakt ...   \n",
       "\n",
       "                               translatedArticleText  \n",
       "0  Minister of Education and Sports Ben Weyts is ...  \n",
       "1  There are considerably more candidates than la...  \n",
       "2  Minister of Sports Ben Weyts wants to bring th...  \n",
       "3  When it started in 2019, the Flemish Governmen...  \n",
       "4  Flemish Minister of Education Ben Weyts is rel...  "
      ]
     },
     "execution_count": 11,
     "metadata": {},
     "output_type": "execute_result"
    }
   ],
   "source": [
    "nva.head()"
   ]
  },
  {
   "cell_type": "code",
   "execution_count": 12,
   "metadata": {},
   "outputs": [],
   "source": [
    "nva.to_csv('nva_translated.csv')"
   ]
  },
  {
   "cell_type": "code",
   "execution_count": 13,
   "metadata": {},
   "outputs": [
    {
     "data": {
      "text/html": [
       "<div>\n",
       "<style scoped>\n",
       "    .dataframe tbody tr th:only-of-type {\n",
       "        vertical-align: middle;\n",
       "    }\n",
       "\n",
       "    .dataframe tbody tr th {\n",
       "        vertical-align: top;\n",
       "    }\n",
       "\n",
       "    .dataframe thead th {\n",
       "        text-align: right;\n",
       "    }\n",
       "</style>\n",
       "<table border=\"1\" class=\"dataframe\">\n",
       "  <thead>\n",
       "    <tr style=\"text-align: right;\">\n",
       "      <th></th>\n",
       "      <th>articleTitle</th>\n",
       "      <th>articleDate</th>\n",
       "      <th>articleLink</th>\n",
       "      <th>articleText</th>\n",
       "      <th>translatedArticleText</th>\n",
       "    </tr>\n",
       "  </thead>\n",
       "  <tbody>\n",
       "    <tr>\n",
       "      <th>0</th>\n",
       "      <td>Van Grieken feliciteert Wilders: “voorbode voo...</td>\n",
       "      <td>donderdag, 06 jun 2024</td>\n",
       "      <td>https://www.vlaamsbelang.org/nieuws/van-grieke...</td>\n",
       "      <td>Volgens de exitpoll van de Europese verkiezing...</td>\n",
       "      <td>According to the exit poll of the European ele...</td>\n",
       "    </tr>\n",
       "    <tr>\n",
       "      <th>1</th>\n",
       "      <td>Vlaams Belang blijft grootste in laatste peili...</td>\n",
       "      <td>donderdag, 06 jun 2024</td>\n",
       "      <td>https://www.vlaamsbelang.org/nieuws/vlaams-bel...</td>\n",
       "      <td>In de laatste peiling van Het Laatste Nieuws e...</td>\n",
       "      <td>In the latest poll by Het Laatste Nieuws and V...</td>\n",
       "    </tr>\n",
       "    <tr>\n",
       "      <th>2</th>\n",
       "      <td>Renovatieplicht moet op de schop</td>\n",
       "      <td>donderdag, 06 jun 2024</td>\n",
       "      <td>https://www.vlaamsbelang.org/nieuws/renovatiep...</td>\n",
       "      <td>Anders dan partijen als N-VA of cd&amp;v die de re...</td>\n",
       "      <td>Unlike parties such as N-VA or CD&amp;V that have ...</td>\n",
       "    </tr>\n",
       "    <tr>\n",
       "      <th>3</th>\n",
       "      <td>Taalwetgeving Brussel 2023: opnieuw een absolu...</td>\n",
       "      <td>donderdag, 06 jun 2024</td>\n",
       "      <td>https://www.vlaamsbelang.org/nieuws/taalwetgev...</td>\n",
       "      <td>Zopas gaf de vicegouverneur van Brussel zijn v...</td>\n",
       "      <td>The deputy governor of Brussels has just relea...</td>\n",
       "    </tr>\n",
       "    <tr>\n",
       "      <th>4</th>\n",
       "      <td>Vlaams Belang wil onderste steen bovenhalen in...</td>\n",
       "      <td>woensdag, 05 jun 2024</td>\n",
       "      <td>https://www.vlaamsbelang.org/nieuws/vlaams-bel...</td>\n",
       "      <td>Het Vlaams Belang neemt ontzet kennis van de m...</td>\n",
       "      <td>Vlaams Belang is appalled by the possibly frau...</td>\n",
       "    </tr>\n",
       "  </tbody>\n",
       "</table>\n",
       "</div>"
      ],
      "text/plain": [
       "                                        articleTitle             articleDate  \\\n",
       "0  Van Grieken feliciteert Wilders: “voorbode voo...  donderdag, 06 jun 2024   \n",
       "1  Vlaams Belang blijft grootste in laatste peili...  donderdag, 06 jun 2024   \n",
       "2                   Renovatieplicht moet op de schop  donderdag, 06 jun 2024   \n",
       "3  Taalwetgeving Brussel 2023: opnieuw een absolu...  donderdag, 06 jun 2024   \n",
       "4  Vlaams Belang wil onderste steen bovenhalen in...   woensdag, 05 jun 2024   \n",
       "\n",
       "                                         articleLink  \\\n",
       "0  https://www.vlaamsbelang.org/nieuws/van-grieke...   \n",
       "1  https://www.vlaamsbelang.org/nieuws/vlaams-bel...   \n",
       "2  https://www.vlaamsbelang.org/nieuws/renovatiep...   \n",
       "3  https://www.vlaamsbelang.org/nieuws/taalwetgev...   \n",
       "4  https://www.vlaamsbelang.org/nieuws/vlaams-bel...   \n",
       "\n",
       "                                         articleText  \\\n",
       "0  Volgens de exitpoll van de Europese verkiezing...   \n",
       "1  In de laatste peiling van Het Laatste Nieuws e...   \n",
       "2  Anders dan partijen als N-VA of cd&v die de re...   \n",
       "3  Zopas gaf de vicegouverneur van Brussel zijn v...   \n",
       "4  Het Vlaams Belang neemt ontzet kennis van de m...   \n",
       "\n",
       "                               translatedArticleText  \n",
       "0  According to the exit poll of the European ele...  \n",
       "1  In the latest poll by Het Laatste Nieuws and V...  \n",
       "2  Unlike parties such as N-VA or CD&V that have ...  \n",
       "3  The deputy governor of Brussels has just relea...  \n",
       "4  Vlaams Belang is appalled by the possibly frau...  "
      ]
     },
     "execution_count": 13,
     "metadata": {},
     "output_type": "execute_result"
    }
   ],
   "source": [
    "Vb = pd.read_csv('VlaamsBelang.csv')\n",
    "Vb['translatedArticleText'] = Vb['articleText'].apply(lambda x: (translator.translate(x)).text)\n",
    "Vb.head()"
   ]
  },
  {
   "cell_type": "code",
   "execution_count": 14,
   "metadata": {},
   "outputs": [],
   "source": [
    "Vb.to_csv('VlaamsBeland_translated.csv')"
   ]
  },
  {
   "cell_type": "code",
   "execution_count": 15,
   "metadata": {},
   "outputs": [
    {
     "data": {
      "text/html": [
       "<div>\n",
       "<style scoped>\n",
       "    .dataframe tbody tr th:only-of-type {\n",
       "        vertical-align: middle;\n",
       "    }\n",
       "\n",
       "    .dataframe tbody tr th {\n",
       "        vertical-align: top;\n",
       "    }\n",
       "\n",
       "    .dataframe thead th {\n",
       "        text-align: right;\n",
       "    }\n",
       "</style>\n",
       "<table border=\"1\" class=\"dataframe\">\n",
       "  <thead>\n",
       "    <tr style=\"text-align: right;\">\n",
       "      <th></th>\n",
       "      <th>articleTitle</th>\n",
       "      <th>articleDate</th>\n",
       "      <th>articleLink</th>\n",
       "      <th>articleText</th>\n",
       "      <th>translatedArticleText</th>\n",
       "    </tr>\n",
       "  </thead>\n",
       "  <tbody>\n",
       "    <tr>\n",
       "      <th>0</th>\n",
       "      <td>541 dagen onderhandelen in een kasteel kan voo...</td>\n",
       "      <td>07/06/24</td>\n",
       "      <td>https://www.cdenv.be/cd_v_waarschuwt_voor_de_s...</td>\n",
       "      <td>Cd&amp;v waarschuwt voor de stilstand van het land...</td>\n",
       "      <td>CD&amp;V warns of the country's standstill after J...</td>\n",
       "    </tr>\n",
       "    <tr>\n",
       "      <th>1</th>\n",
       "      <td>Minister Crevits neemt maatregelen om de werkd...</td>\n",
       "      <td>07/06/24</td>\n",
       "      <td>https://www.cdenv.be/minister_crevits_neemt_ma...</td>\n",
       "      <td>Vandaag heeft de Vlaamse Regering op voorstel ...</td>\n",
       "      <td>Today, at the proposal of Minister Crevits, th...</td>\n",
       "    </tr>\n",
       "    <tr>\n",
       "      <th>2</th>\n",
       "      <td>\"Studierichtingen vrijwaren, onderwijskwalitei...</td>\n",
       "      <td>05/06/24</td>\n",
       "      <td>https://www.cdenv.be/studierichtingen_vrijware...</td>\n",
       "      <td>Cd&amp;v bindt de strijd aan met ‘staatsonderwijs’...</td>\n",
       "      <td>Cd&amp;v is taking up the fight with 'state educat...</td>\n",
       "    </tr>\n",
       "    <tr>\n",
       "      <th>3</th>\n",
       "      <td>Voer mee campagne in uw provincie!</td>\n",
       "      <td>24/05/24</td>\n",
       "      <td>https://www.cdenv.be/tour</td>\n",
       "      <td>Tijdens de laatste 2 weken van de campagne tre...</td>\n",
       "      <td>During the last 2 weeks of the campaign, our t...</td>\n",
       "    </tr>\n",
       "    <tr>\n",
       "      <th>4</th>\n",
       "      <td>Gratis bestaat niet.</td>\n",
       "      <td>23/05/24</td>\n",
       "      <td>https://www.cdenv.be/gratis_bestaat_niet</td>\n",
       "      <td>De afgelopen weken werden we in de pers om de ...</td>\n",
       "      <td>In recent weeks we have been bombarded in the ...</td>\n",
       "    </tr>\n",
       "  </tbody>\n",
       "</table>\n",
       "</div>"
      ],
      "text/plain": [
       "                                        articleTitle articleDate  \\\n",
       "0  541 dagen onderhandelen in een kasteel kan voo...    07/06/24   \n",
       "1  Minister Crevits neemt maatregelen om de werkd...    07/06/24   \n",
       "2  \"Studierichtingen vrijwaren, onderwijskwalitei...    05/06/24   \n",
       "3                 Voer mee campagne in uw provincie!    24/05/24   \n",
       "4                               Gratis bestaat niet.    23/05/24   \n",
       "\n",
       "                                         articleLink  \\\n",
       "0  https://www.cdenv.be/cd_v_waarschuwt_voor_de_s...   \n",
       "1  https://www.cdenv.be/minister_crevits_neemt_ma...   \n",
       "2  https://www.cdenv.be/studierichtingen_vrijware...   \n",
       "3                          https://www.cdenv.be/tour   \n",
       "4           https://www.cdenv.be/gratis_bestaat_niet   \n",
       "\n",
       "                                         articleText  \\\n",
       "0  Cd&v waarschuwt voor de stilstand van het land...   \n",
       "1  Vandaag heeft de Vlaamse Regering op voorstel ...   \n",
       "2  Cd&v bindt de strijd aan met ‘staatsonderwijs’...   \n",
       "3  Tijdens de laatste 2 weken van de campagne tre...   \n",
       "4  De afgelopen weken werden we in de pers om de ...   \n",
       "\n",
       "                               translatedArticleText  \n",
       "0  CD&V warns of the country's standstill after J...  \n",
       "1  Today, at the proposal of Minister Crevits, th...  \n",
       "2  Cd&v is taking up the fight with 'state educat...  \n",
       "3  During the last 2 weeks of the campaign, our t...  \n",
       "4  In recent weeks we have been bombarded in the ...  "
      ]
     },
     "execution_count": 15,
     "metadata": {},
     "output_type": "execute_result"
    }
   ],
   "source": [
    "CDnV = pd.read_csv('CDnV.csv')\n",
    "CDnV['translatedArticleText'] = CDnV['articleText'].apply(lambda x: (translator.translate(x)).text)\n",
    "CDnV.head()"
   ]
  },
  {
   "cell_type": "code",
   "execution_count": 16,
   "metadata": {},
   "outputs": [],
   "source": [
    "CDnV.to_csv('CDnV_translated.csv')"
   ]
  },
  {
   "cell_type": "code",
   "execution_count": 17,
   "metadata": {},
   "outputs": [],
   "source": [
    "openVld = pd.read_csv('openvld.csv')\n",
    "openVld['translatedArticleText'] = openVld['articleText'].apply(lambda x: (translator.translate(x)).text)\n",
    "openVld.to_csv('openvld_translated.csv')"
   ]
  },
  {
   "cell_type": "code",
   "execution_count": 18,
   "metadata": {},
   "outputs": [
    {
     "data": {
      "text/html": [
       "<div>\n",
       "<style scoped>\n",
       "    .dataframe tbody tr th:only-of-type {\n",
       "        vertical-align: middle;\n",
       "    }\n",
       "\n",
       "    .dataframe tbody tr th {\n",
       "        vertical-align: top;\n",
       "    }\n",
       "\n",
       "    .dataframe thead th {\n",
       "        text-align: right;\n",
       "    }\n",
       "</style>\n",
       "<table border=\"1\" class=\"dataframe\">\n",
       "  <thead>\n",
       "    <tr style=\"text-align: right;\">\n",
       "      <th></th>\n",
       "      <th>Unnamed: 0</th>\n",
       "      <th>articleTitle</th>\n",
       "      <th>articleDate</th>\n",
       "      <th>articleLink</th>\n",
       "      <th>articleText</th>\n",
       "      <th>translatedArticleText</th>\n",
       "    </tr>\n",
       "  </thead>\n",
       "  <tbody>\n",
       "    <tr>\n",
       "      <th>0</th>\n",
       "      <td>0</td>\n",
       "      <td>Speech Alexander De Croo op Slotmeeting</td>\n",
       "      <td>5 juni 2024</td>\n",
       "      <td>https://www.openvld.be/speech_alexander_de_cro...</td>\n",
       "      <td>Beste vrienden, We hebben de voorbije weken k...</td>\n",
       "      <td>Dear friends, We have been campaigning hard in...</td>\n",
       "    </tr>\n",
       "    <tr>\n",
       "      <th>1</th>\n",
       "      <td>1</td>\n",
       "      <td>Speech Alexander De Croo op Slotmeeting</td>\n",
       "      <td>5 juni 2024</td>\n",
       "      <td>https://www.openvld.be/speech_alexander_de_cro...</td>\n",
       "      <td>Beste vrienden, We hebben de voorbije weken k...</td>\n",
       "      <td>Dear friends, We have been campaigning hard in...</td>\n",
       "    </tr>\n",
       "    <tr>\n",
       "      <th>2</th>\n",
       "      <td>2</td>\n",
       "      <td>Speech Tom Ongena op Slotmeeting</td>\n",
       "      <td>5 juni 2024</td>\n",
       "      <td>https://www.openvld.be/speech_tom_ongena_op_sl...</td>\n",
       "      <td>Beste kandidaten, Beste militanten, Beste li...</td>\n",
       "      <td>Dear candidates, Dear militants, Dear liberal ...</td>\n",
       "    </tr>\n",
       "    <tr>\n",
       "      <th>3</th>\n",
       "      <td>3</td>\n",
       "      <td>Einde vaste benoeming ambtenaren vanaf 1 juni</td>\n",
       "      <td>31 mei 2024</td>\n",
       "      <td>https://www.openvld.be/einde_vaste_benoeming_a...</td>\n",
       "      <td>Morgen is het zover: de Vlaamse overheid stap...</td>\n",
       "      <td>Tomorrow is the day: the Flemish government wi...</td>\n",
       "    </tr>\n",
       "    <tr>\n",
       "      <th>4</th>\n",
       "      <td>4</td>\n",
       "      <td>De toekomst van de Belgische politie</td>\n",
       "      <td>29 mei 2024</td>\n",
       "      <td>https://www.openvld.be/de_toekomst_van_de_belg...</td>\n",
       "      <td>Hoewel de politie sterk werk aflevert in onde...</td>\n",
       "      <td>Although the police do a great job in, among o...</td>\n",
       "    </tr>\n",
       "  </tbody>\n",
       "</table>\n",
       "</div>"
      ],
      "text/plain": [
       "   Unnamed: 0                                   articleTitle  articleDate  \\\n",
       "0           0        Speech Alexander De Croo op Slotmeeting  5 juni 2024   \n",
       "1           1        Speech Alexander De Croo op Slotmeeting  5 juni 2024   \n",
       "2           2               Speech Tom Ongena op Slotmeeting  5 juni 2024   \n",
       "3           3  Einde vaste benoeming ambtenaren vanaf 1 juni  31 mei 2024   \n",
       "4           4           De toekomst van de Belgische politie  29 mei 2024   \n",
       "\n",
       "                                         articleLink  \\\n",
       "0  https://www.openvld.be/speech_alexander_de_cro...   \n",
       "1  https://www.openvld.be/speech_alexander_de_cro...   \n",
       "2  https://www.openvld.be/speech_tom_ongena_op_sl...   \n",
       "3  https://www.openvld.be/einde_vaste_benoeming_a...   \n",
       "4  https://www.openvld.be/de_toekomst_van_de_belg...   \n",
       "\n",
       "                                         articleText  \\\n",
       "0   Beste vrienden, We hebben de voorbije weken k...   \n",
       "1   Beste vrienden, We hebben de voorbije weken k...   \n",
       "2    Beste kandidaten, Beste militanten, Beste li...   \n",
       "3   Morgen is het zover: de Vlaamse overheid stap...   \n",
       "4   Hoewel de politie sterk werk aflevert in onde...   \n",
       "\n",
       "                               translatedArticleText  \n",
       "0  Dear friends, We have been campaigning hard in...  \n",
       "1  Dear friends, We have been campaigning hard in...  \n",
       "2  Dear candidates, Dear militants, Dear liberal ...  \n",
       "3  Tomorrow is the day: the Flemish government wi...  \n",
       "4  Although the police do a great job in, among o...  "
      ]
     },
     "execution_count": 18,
     "metadata": {},
     "output_type": "execute_result"
    }
   ],
   "source": [
    "openVld_translated = pd.read_csv('openvld_translated.csv')\n",
    "openVld_translated.head()"
   ]
  },
  {
   "cell_type": "code",
   "execution_count": 19,
   "metadata": {},
   "outputs": [],
   "source": [
    "Vooruit = pd.read_csv('Vooruit.csv')\n",
    "Vooruit['translatedArticleText'] = Vooruit['articleText'].apply(lambda x: (translator.translate(x)).text)\n",
    "Vooruit.to_csv('Vooruit_translated.csv')"
   ]
  },
  {
   "cell_type": "code",
   "execution_count": 21,
   "metadata": {},
   "outputs": [],
   "source": [
    "Groen = pd.read_csv('Groen.csv')\n",
    "Groen['translatedArticleText'] = Groen['articleText'].apply(lambda x: (translator.translate(x)).text)\n",
    "Groen.to_csv('Groen_translated.csv')"
   ]
  }
 ],
 "metadata": {
  "kernelspec": {
   "display_name": "cbdss_3.11.5",
   "language": "python",
   "name": "python3"
  },
  "language_info": {
   "codemirror_mode": {
    "name": "ipython",
    "version": 3
   },
   "file_extension": ".py",
   "mimetype": "text/x-python",
   "name": "python",
   "nbconvert_exporter": "python",
   "pygments_lexer": "ipython3",
   "version": "3.11.5"
  }
 },
 "nbformat": 4,
 "nbformat_minor": 2
}
